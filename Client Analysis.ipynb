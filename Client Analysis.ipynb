{
 "cells": [
  {
   "cell_type": "code",
   "execution_count": 10,
   "id": "d17373d1-c3a2-4138-ada8-bfd738e0876a",
   "metadata": {},
   "outputs": [],
   "source": [
    "import pandas as pd\n",
    "import numpy as np\n",
    "import matplotlib.pyplot as plt\n",
    "import seaborn as sns"
   ]
  },
  {
   "cell_type": "code",
   "execution_count": 11,
   "id": "6e5344dc-2993-42c8-97c5-86ecd4a88f55",
   "metadata": {},
   "outputs": [],
   "source": [
    "dataset = pd.read_csv (\"Booking_data.csv\")"
   ]
  },
  {
   "cell_type": "code",
   "execution_count": 12,
   "id": "69abc298-1780-4e85-ac94-8742aa267a8b",
   "metadata": {},
   "outputs": [
    {
     "data": {
      "text/html": [
       "<div>\n",
       "<style scoped>\n",
       "    .dataframe tbody tr th:only-of-type {\n",
       "        vertical-align: middle;\n",
       "    }\n",
       "\n",
       "    .dataframe tbody tr th {\n",
       "        vertical-align: top;\n",
       "    }\n",
       "\n",
       "    .dataframe thead th {\n",
       "        text-align: right;\n",
       "    }\n",
       "</style>\n",
       "<table border=\"1\" class=\"dataframe\">\n",
       "  <thead>\n",
       "    <tr style=\"text-align: right;\">\n",
       "      <th></th>\n",
       "      <th>BOOKINGSITENAME</th>\n",
       "      <th>BOOKINGDATE</th>\n",
       "      <th>BOWLINGPARTYSIZE</th>\n",
       "      <th>BOWLINGQTY</th>\n",
       "      <th>VISITDATE</th>\n",
       "      <th>BOOKINGCHANNEL</th>\n",
       "      <th>BOOKINGVALUE</th>\n",
       "      <th>RSRVTYPEKEY</th>\n",
       "      <th>RSRVTYPEDESC</th>\n",
       "      <th>EMAIL</th>\n",
       "    </tr>\n",
       "  </thead>\n",
       "  <tbody>\n",
       "    <tr>\n",
       "      <th>0</th>\n",
       "      <td>Southampton</td>\n",
       "      <td>27/05/2024</td>\n",
       "      <td>NaN</td>\n",
       "      <td>NaN</td>\n",
       "      <td>27/05/2024</td>\n",
       "      <td>Made from Web</td>\n",
       "      <td>14.5</td>\n",
       "      <td>841</td>\n",
       "      <td>Web Pingo's</td>\n",
       "      <td>EMAIL_d36e1d1e</td>\n",
       "    </tr>\n",
       "    <tr>\n",
       "      <th>1</th>\n",
       "      <td>Manchester (Parrswood)</td>\n",
       "      <td>02/11/2024</td>\n",
       "      <td>5.0</td>\n",
       "      <td>3.0</td>\n",
       "      <td>02/11/2024</td>\n",
       "      <td>Made from Web</td>\n",
       "      <td>114.5</td>\n",
       "      <td>825</td>\n",
       "      <td>Web Bowl Other</td>\n",
       "      <td>EMAIL_7f5c9e41</td>\n",
       "    </tr>\n",
       "    <tr>\n",
       "      <th>2</th>\n",
       "      <td>Walsall</td>\n",
       "      <td>22/02/2024</td>\n",
       "      <td>4.0</td>\n",
       "      <td>2.0</td>\n",
       "      <td>25/02/2024</td>\n",
       "      <td>Made from Web</td>\n",
       "      <td>50.4</td>\n",
       "      <td>825</td>\n",
       "      <td>Web Bowl Other</td>\n",
       "      <td>EMAIL_b3a9bca7</td>\n",
       "    </tr>\n",
       "    <tr>\n",
       "      <th>3</th>\n",
       "      <td>Walsall</td>\n",
       "      <td>08/03/2024</td>\n",
       "      <td>2.0</td>\n",
       "      <td>2.0</td>\n",
       "      <td>08/03/2024</td>\n",
       "      <td>Made from Web</td>\n",
       "      <td>26.0</td>\n",
       "      <td>825</td>\n",
       "      <td>Web Bowl Other</td>\n",
       "      <td>EMAIL_b3a9bca7</td>\n",
       "    </tr>\n",
       "    <tr>\n",
       "      <th>4</th>\n",
       "      <td>Chichester</td>\n",
       "      <td>04/08/2024</td>\n",
       "      <td>5.0</td>\n",
       "      <td>2.0</td>\n",
       "      <td>04/08/2024</td>\n",
       "      <td>Made from Web</td>\n",
       "      <td>97.6</td>\n",
       "      <td>828</td>\n",
       "      <td>Web Eat N Play</td>\n",
       "      <td>EMAIL_cf345354</td>\n",
       "    </tr>\n",
       "  </tbody>\n",
       "</table>\n",
       "</div>"
      ],
      "text/plain": [
       "          BOOKINGSITENAME BOOKINGDATE  BOWLINGPARTYSIZE  BOWLINGQTY  \\\n",
       "0             Southampton  27/05/2024               NaN         NaN   \n",
       "1  Manchester (Parrswood)  02/11/2024               5.0         3.0   \n",
       "2                 Walsall  22/02/2024               4.0         2.0   \n",
       "3                 Walsall  08/03/2024               2.0         2.0   \n",
       "4              Chichester  04/08/2024               5.0         2.0   \n",
       "\n",
       "    VISITDATE BOOKINGCHANNEL  BOOKINGVALUE  RSRVTYPEKEY    RSRVTYPEDESC  \\\n",
       "0  27/05/2024  Made from Web          14.5          841     Web Pingo's   \n",
       "1  02/11/2024  Made from Web         114.5          825  Web Bowl Other   \n",
       "2  25/02/2024  Made from Web          50.4          825  Web Bowl Other   \n",
       "3  08/03/2024  Made from Web          26.0          825  Web Bowl Other   \n",
       "4  04/08/2024  Made from Web          97.6          828  Web Eat N Play   \n",
       "\n",
       "            EMAIL  \n",
       "0  EMAIL_d36e1d1e  \n",
       "1  EMAIL_7f5c9e41  \n",
       "2  EMAIL_b3a9bca7  \n",
       "3  EMAIL_b3a9bca7  \n",
       "4  EMAIL_cf345354  "
      ]
     },
     "execution_count": 12,
     "metadata": {},
     "output_type": "execute_result"
    }
   ],
   "source": [
    "dataset.head()"
   ]
  },
  {
   "cell_type": "code",
   "execution_count": 13,
   "id": "9c7c4b9f-3217-4235-b2ab-5e5c665c7e4a",
   "metadata": {},
   "outputs": [
    {
     "data": {
      "text/plain": [
       "BOOKINGSITENAME         0\n",
       "BOOKINGDATE             0\n",
       "BOWLINGPARTYSIZE    33399\n",
       "BOWLINGQTY          62703\n",
       "VISITDATE               0\n",
       "BOOKINGCHANNEL          0\n",
       "BOOKINGVALUE            9\n",
       "RSRVTYPEKEY             0\n",
       "RSRVTYPEDESC         7801\n",
       "EMAIL                   0\n",
       "dtype: int64"
      ]
     },
     "execution_count": 13,
     "metadata": {},
     "output_type": "execute_result"
    }
   ],
   "source": [
    "dataset.isnull().sum()"
   ]
  },
  {
   "cell_type": "code",
   "execution_count": 14,
   "id": "127365a5-a7a5-4ac3-93ce-01d3c74c9c3a",
   "metadata": {},
   "outputs": [
    {
     "data": {
      "text/html": [
       "<div>\n",
       "<style scoped>\n",
       "    .dataframe tbody tr th:only-of-type {\n",
       "        vertical-align: middle;\n",
       "    }\n",
       "\n",
       "    .dataframe tbody tr th {\n",
       "        vertical-align: top;\n",
       "    }\n",
       "\n",
       "    .dataframe thead th {\n",
       "        text-align: right;\n",
       "    }\n",
       "</style>\n",
       "<table border=\"1\" class=\"dataframe\">\n",
       "  <thead>\n",
       "    <tr style=\"text-align: right;\">\n",
       "      <th></th>\n",
       "      <th>BOWLINGPARTYSIZE</th>\n",
       "      <th>BOWLINGQTY</th>\n",
       "      <th>BOOKINGVALUE</th>\n",
       "      <th>RSRVTYPEKEY</th>\n",
       "    </tr>\n",
       "  </thead>\n",
       "  <tbody>\n",
       "    <tr>\n",
       "      <th>count</th>\n",
       "      <td>517092.000000</td>\n",
       "      <td>487788.000000</td>\n",
       "      <td>550482.000000</td>\n",
       "      <td>550491.000000</td>\n",
       "    </tr>\n",
       "    <tr>\n",
       "      <th>mean</th>\n",
       "      <td>4.040842</td>\n",
       "      <td>1.977496</td>\n",
       "      <td>38.367524</td>\n",
       "      <td>808.076027</td>\n",
       "    </tr>\n",
       "    <tr>\n",
       "      <th>std</th>\n",
       "      <td>2.919991</td>\n",
       "      <td>1.058890</td>\n",
       "      <td>34.542300</td>\n",
       "      <td>68.369186</td>\n",
       "    </tr>\n",
       "    <tr>\n",
       "      <th>min</th>\n",
       "      <td>0.000000</td>\n",
       "      <td>1.000000</td>\n",
       "      <td>0.000000</td>\n",
       "      <td>4.000000</td>\n",
       "    </tr>\n",
       "    <tr>\n",
       "      <th>25%</th>\n",
       "      <td>2.000000</td>\n",
       "      <td>1.000000</td>\n",
       "      <td>20.000000</td>\n",
       "      <td>825.000000</td>\n",
       "    </tr>\n",
       "    <tr>\n",
       "      <th>50%</th>\n",
       "      <td>3.000000</td>\n",
       "      <td>2.000000</td>\n",
       "      <td>30.000000</td>\n",
       "      <td>825.000000</td>\n",
       "    </tr>\n",
       "    <tr>\n",
       "      <th>75%</th>\n",
       "      <td>5.000000</td>\n",
       "      <td>2.000000</td>\n",
       "      <td>44.590000</td>\n",
       "      <td>827.000000</td>\n",
       "    </tr>\n",
       "    <tr>\n",
       "      <th>max</th>\n",
       "      <td>227.000000</td>\n",
       "      <td>48.000000</td>\n",
       "      <td>1577.600000</td>\n",
       "      <td>931.000000</td>\n",
       "    </tr>\n",
       "  </tbody>\n",
       "</table>\n",
       "</div>"
      ],
      "text/plain": [
       "       BOWLINGPARTYSIZE     BOWLINGQTY   BOOKINGVALUE    RSRVTYPEKEY\n",
       "count     517092.000000  487788.000000  550482.000000  550491.000000\n",
       "mean           4.040842       1.977496      38.367524     808.076027\n",
       "std            2.919991       1.058890      34.542300      68.369186\n",
       "min            0.000000       1.000000       0.000000       4.000000\n",
       "25%            2.000000       1.000000      20.000000     825.000000\n",
       "50%            3.000000       2.000000      30.000000     825.000000\n",
       "75%            5.000000       2.000000      44.590000     827.000000\n",
       "max          227.000000      48.000000    1577.600000     931.000000"
      ]
     },
     "execution_count": 14,
     "metadata": {},
     "output_type": "execute_result"
    }
   ],
   "source": [
    "dataset.describe()"
   ]
  },
  {
   "cell_type": "code",
   "execution_count": 15,
   "id": "8e31eed5-b618-402c-adcd-a2b458caf491",
   "metadata": {},
   "outputs": [
    {
     "data": {
      "text/plain": [
       "BOOKINGSITENAME     550491\n",
       "BOOKINGDATE         550491\n",
       "BOWLINGPARTYSIZE    517092\n",
       "BOWLINGQTY          487788\n",
       "VISITDATE           550491\n",
       "BOOKINGCHANNEL      550491\n",
       "BOOKINGVALUE        550482\n",
       "RSRVTYPEKEY         550491\n",
       "RSRVTYPEDESC        542690\n",
       "EMAIL               550491\n",
       "dtype: int64"
      ]
     },
     "execution_count": 15,
     "metadata": {},
     "output_type": "execute_result"
    }
   ],
   "source": [
    "dataset.count()"
   ]
  },
  {
   "cell_type": "code",
   "execution_count": 28,
   "id": "864602a0-610c-4ad2-a4e1-604d2e60916f",
   "metadata": {
    "scrolled": true
   },
   "outputs": [],
   "source": [
    "dataset['BOOKINGDATE'] = pd.to_datetime(dataset['BOOKINGDATE'])"
   ]
  },
  {
   "cell_type": "code",
   "execution_count": 29,
   "id": "c7c2a00a-8589-4b7d-90ad-3ab524e07829",
   "metadata": {
    "scrolled": true
   },
   "outputs": [
    {
     "data": {
      "image/png": "[encoded data removed]",
      "text/plain": [
       "<Figure size 640x480 with 1 Axes>"
      ]
     },
     "metadata": {},
     "output_type": "display_data"
    }
   ],
   "source": [
    "dataset['BOOKINGDATE'].dt.day_name().value_counts().plot(kind = \"bar\");pass"
   ]
  },
  {
   "cell_type": "code",
   "execution_count": null,
   "id": "ed104b40-1f0c-490f-ae46-a64accdf2889",
   "metadata": {},
   "outputs": [],
   "source": []
  }
 ],
 "metadata": {
  "kernelspec": {
   "display_name": "Python 3 (ipykernel)",
   "language": "python",
   "name": "python3"
  },
  "language_info": {
   "codemirror_mode": {
    "name": "ipython",
    "version": 3
   },
   "file_extension": ".py",
   "mimetype": "text/x-python",
   "name": "python",
   "nbconvert_exporter": "python",
   "pygments_lexer": "ipython3",
   "version": "3.13.3"
  }
 },
 "nbformat": 4,
 "nbformat_minor": 5
}
